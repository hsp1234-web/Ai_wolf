```python
#@title 🚀🐺 Ai_wolf 多模式啟動器 (Wolf_V5 / Wolf_V6)
#@markdown ### Ai_wolf Multi-Modal Launcher (Wolf_V5 / Wolf_V6)
#@markdown ---
#@markdown **重要提示：**
#@markdown 1.  **首次執行或切換模式後，請務必點擊左上角的「執行階段」->「重新啟動工作階段階段」**，然後重新執行此儲存格，以確保環境變數和路徑正確應用。
#@markdown 2.  API 金鑰 (如 `GEMINI_API_KEY`) 應儲存在 Colab 的「密鑰」(Secrets) 中。此腳本會嘗試讀取它們。
#@markdown 3.  **偵錯模式 (DEBUG_MODE)** 提供額外的系統健康檢查和日誌輸出，有助於開發和問題排查。
#@markdown ---
#@markdown **選擇啟動模式 (Mode Selection):**
MODE = "Wolf_V5 (Backend + Frontend)" #@param ["Wolf_V5 (Backend + Frontend)", "Wolf_V6 (Backend Only)", "Wolf_V6 (Frontend Only)"]
#@markdown ---
#@markdown **專案相關設定 (Project Settings):**
PROJECT_GIT_URL = "https://github.com/hsp1234-web/Ai_wolf.git" #@param {type:"string"}
#@markdown > Google Drive 中的專案根目錄 (Project root in Google Drive)
GDRIVE_PROJECT_ROOT = "wolfAI" #@param {type:"string"}
#@markdown > Colab 本地回退專案根目錄 (Local Colab fallback project root)
LOCAL_PROJECT_ROOT = "wolfAI_local" #@param {type:"string"}
#@markdown > 應用程式主要資料夾 (通常在 Google Drive，用於存放日誌、資料庫、備份等)
APP_DATA_FOLDER_GDRIVE = "Wolf_Data" #@param {type:"string"}
#@markdown ---
#@markdown **偵錯與日誌設定 (Debug & Logging Settings):**
IS_DEBUG_MODE = True #@param {type:"boolean"}
#@markdown > 偵錯模式下的後端 API 測試埠號 (Backend API test port in DEBUG_MODE)
DEBUG_BACKEND_PORT = 8080 #@param {type:"integer"}
#@markdown > Streamlit 前端應用程式埠號 (Streamlit frontend application port)
STREAMLIT_PORT = 8501 #@param {type:"integer"}
#@markdown ---

import os
import sys
import subprocess
import time
import threading
import shutil
import json # 新增導入
from IPython.display import display, HTML, clear_output

# --- 環境偵測與常數定義 ---
IN_COLAB = 'google.colab' in sys.modules
GDRIVE_BASE_PATH = "/content/drive/MyDrive"
PROJECT_DIR_GDRIVE = os.path.join(GDRIVE_BASE_PATH, GDRIVE_PROJECT_ROOT)
PROJECT_DIR_LOCAL = f"/content/{LOCAL_PROJECT_ROOT}"
APP_DATA_DIR_GDRIVE = os.path.join(GDRIVE_BASE_PATH, APP_DATA_FOLDER_GDRIVE)
APP_DATA_DIR_LOCAL = f"/content/{APP_DATA_FOLDER_GDRIVE}" # 本地模擬的資料目錄

# 根據模式決定後端和前端的執行路徑
PROJECT_DIR_TO_USE = None # 將在掛載 Drive 後決定
APP_DATA_DIR_TO_USE = None  # 將在掛載 Drive 後決定

# 後端 API 端點 (用於偵錯模式下的健康檢查)
# 注意: 埠號將根據 IS_DEBUG_MODE 和 MODE 動態調整 (後端服務實際綁定的埠號)
# 以下 URL 中的埠號是示意性的，實際測試時會使用 DEBUG_BACKEND_PORT
BACKEND_BASE_URL_DEBUG = f"http://127.0.0.1:{DEBUG_BACKEND_PORT}"
BACKEND_HEALTH_CHECK_URL = f"{BACKEND_BASE_URL_DEBUG}/api/health"
# CORE_API_ENDPOINT 使用者提供的是 /api/generate
CORE_API_ENDPOINT = f"{BACKEND_BASE_URL_DEBUG}/api/generate"
DATA_FETCH_API_ENDPOINT = f"{BACKEND_BASE_URL_DEBUG}/api/data/fetch"
# AUTH_LOGIN_API_ENDPOINT = f"{BACKEND_BASE_URL_DEBUG}/api/auth/login" # 假設登入端點
# 其他端點 (如果要在偵錯模式中測試)
# DB_BACKUP_API_ENDPOINT = f"{BACKEND_BASE_URL_DEBUG}/api/db/backup"
# FILE_UPLOAD_API_ENDPOINT = f"{BACKEND_BASE_URL_DEBUG}/api/files/upload"


# --- 核心功能函數 ---
def mount_google_drive():
    global PROJECT_DIR_TO_USE, APP_DATA_DIR_TO_USE
    if IN_COLAB:
        from google.colab import drive
        print("正在嘗試掛載 Google Drive...")
        try:
            drive.mount('/content/drive', force_remount=True)
            print("✅ Google Drive 掛載成功！")
            PROJECT_DIR_TO_USE = PROJECT_DIR_GDRIVE
            APP_DATA_DIR_TO_USE = APP_DATA_DIR_GDRIVE
            # 創建應用程式資料目錄 (如果不存在)
            if not os.path.exists(APP_DATA_DIR_TO_USE):
                os.makedirs(APP_DATA_DIR_TO_USE, exist_ok=True)
                print(f"已創建應用程式資料目錄: {APP_DATA_DIR_TO_USE}")

            # 為 Wolf_Data 創建必要的子目錄結構
            sub_dirs_to_create = ["source_documents/masters", "source_documents/shan_jia_lang", "weekly_reports", "logs", "db_backups", "uploaded_files", "AI_data"]
            for sub_dir in sub_dirs_to_create:
                full_sub_dir_path = os.path.join(APP_DATA_DIR_TO_USE, sub_dir)
                if not os.path.exists(full_sub_dir_path):
                    os.makedirs(full_sub_dir_path, exist_ok=True)
                    print(f"    ✅ 子目錄 '{full_sub_dir_path}' 已創建。")

            return True
        except Exception as e:
            print(f"⚠️ Google Drive 掛載失敗: {e}")
            print("   將使用 Colab 本地儲存空間作為備援。")
            PROJECT_DIR_TO_USE = PROJECT_DIR_LOCAL
            APP_DATA_DIR_TO_USE = APP_DATA_DIR_LOCAL
            # 創建本地資料目錄 (如果不存在)
            if not os.path.exists(APP_DATA_DIR_TO_USE):
                os.makedirs(APP_DATA_DIR_TO_USE, exist_ok=True)
                print(f"已創建本地應用程式資料目錄: {APP_DATA_DIR_TO_USE}")
            return False
    else:
        print("非 Colab 環境，跳過 Google Drive 掛載。")
        PROJECT_DIR_TO_USE = PROJECT_DIR_LOCAL # 或其他本地路徑
        APP_DATA_DIR_TO_USE = APP_DATA_DIR_LOCAL
        if not os.path.exists(APP_DATA_DIR_TO_USE):
            os.makedirs(APP_DATA_DIR_TO_USE, exist_ok=True)
        return False

def git_clone_or_pull_project():
    print(f"\n設定專案將部署於: {PROJECT_DIR_TO_USE}")
    if os.path.exists(os.path.join(PROJECT_DIR_TO_USE, ".git")):
        print("偵測到已存在的專案，嘗試更新 (git pull)...")
        try:
            # cwd 參數確保命令在正確的目錄下執行
            subprocess.run(["git", "pull"], cwd=PROJECT_DIR_TO_USE, check=True, capture_output=True, text=True)
            print("✅ 專案更新完成！")
        except subprocess.CalledProcessError as e:
            print(f"❌ Git pull 失敗: {e.stderr}")
            print("   可能原因：本地修改衝突。如果問題持續，請考慮手動刪除 Drive 中的專案目錄後重試。")
            # 不終止執行，允許使用者繼續嘗試啟動
    else:
        print(f"未偵測到現有專案於 '{PROJECT_DIR_TO_USE}'，執行全新克隆...")
        if os.path.exists(PROJECT_DIR_TO_USE):
             print(f"   警告：目錄 '{PROJECT_DIR_TO_USE}' 已存在但非 Git 倉庫。將嘗試在此目錄中克隆。")
        else:
             os.makedirs(PROJECT_DIR_TO_USE, exist_ok=True)

        try:
            subprocess.run(["git", "clone", "--depth", "1", PROJECT_GIT_URL, PROJECT_DIR_TO_USE], check=True, capture_output=True, text=True)
            print("✅ 專案克隆完成！")
        except subprocess.CalledProcessError as e:
            print(f"❌ Git clone 失敗: {e.stderr}")
            # 如果克隆失敗，APP_DATA_DIR_TO_USE 的設定也可能需要調整回本地
            raise SystemExit("Git clone 失敗，終止執行。")

def install_dependencies():
    requirements_path = os.path.join(PROJECT_DIR_TO_USE, "requirements.txt")
    if os.path.exists(requirements_path):
        print("\n正在安裝依賴套件 (from requirements.txt)...")
        try:
            subprocess.run([sys.executable, "-m", "pip", "install", "-q", "-r", requirements_path], check=True)
            print("✅ 依賴套件安裝完成！")
        except subprocess.CalledProcessError as e:
            print(f"❌ 依賴安裝失敗: {e}")
            # 考慮是否要終止執行
    else:
        print("⚠️ 未找到 requirements.txt，跳過依賴安裝。")

def set_environment_variables():
    print("\n正在設定環境變數...")
    os.environ['PROJECT_ROOT_DIR'] = PROJECT_DIR_TO_USE
    os.environ['APP_DATA_DIR'] = APP_DATA_DIR_TO_USE
    # 其他可能需要的環境變數
    # os.environ['PYTHONUNBUFFERED'] = "1" # Streamlit/FastAPI 日誌通常需要
    print(f"✅ 環境變數 PROJECT_ROOT_DIR 已設定為: {PROJECT_DIR_TO_USE}")
    print(f"✅ 環境變數 APP_DATA_DIR 已設定為: {APP_DATA_DIR_TO_USE}")

def start_backend_service(port):
    print(f"\n啟動後端 FastAPI 服務 (埠號: {port})...")
    backend_main_path = os.path.join(PROJECT_DIR_TO_USE, "backend", "main.py")
    if not os.path.exists(backend_main_path):
        print(f"❌ 錯誤: 後端主程式 backend/main.py 未找到於 {PROJECT_DIR_TO_USE}。")
        return None

    # 使用 PROJECT_DIR_TO_USE 作為 app-dir，確保後端能正確解析其內部模塊路徑
    # 日誌檔案路徑也應該是基於 APP_DATA_DIR_TO_USE
    log_file = os.path.join(APP_DATA_DIR_TO_USE, "logs", f"fastapi_backend_{port}.log")
    os.makedirs(os.path.dirname(log_file), exist_ok=True)

    cmd = [
        sys.executable, "-m", "uvicorn",
        "backend.main:app",
        "--host", "0.0.0.0",
        "--port", str(port),
        "--app-dir", PROJECT_DIR_TO_USE, # 確保後端 FastAPI 能找到其模塊
        "--reload" # 開發時建議使用，生產環境移除
    ]
    print(f"   執行指令: {' '.join(cmd)}")
    print(f"   後端日誌將輸出到: {log_file}")

    with open(log_file, 'wb') as out: # 二進位模式開啟，避免編碼問題
        process = subprocess.Popen(cmd, stdout=out, stderr=out, cwd=PROJECT_DIR_TO_USE)

    print(f"   後端服務 PID: {process.pid}. 等待約 10-15 秒讓服務完成初始化...")
    time.sleep(15) # 給予足夠時間啟動

    # 檢查服務是否成功啟動 (通過日誌或 API health check)
    # 此處簡化，實際應用中應有更穩健的檢查
    if process.poll() is None:
        print(f"✅ 後端服務應已在背景啟動。請檢查日誌檔案 {log_file} 確認。")
        return process
    else:
        print(f"❌ 後端服務啟動失敗或意外終止。請檢查日誌檔案 {log_file}。")
        return None

def start_frontend_service(port):
    print(f"\n啟動前端 Streamlit 應用程式 (埠號: {port})...")
    frontend_app_path = os.path.join(PROJECT_DIR_TO_USE, "app.py")
    if not os.path.exists(frontend_app_path):
        print(f"❌ 錯誤: 前端主程式 app.py 未找到於 {PROJECT_DIR_TO_USE}。")
        return None, None

    log_file = os.path.join(APP_DATA_DIR_TO_USE, "logs", f"streamlit_frontend_{port}.log")
    os.makedirs(os.path.dirname(log_file), exist_ok=True)

    cmd = [
        sys.executable, "-m", "streamlit", "run", frontend_app_path,
        "--server.port", str(port),
        "--server.headless", "true", # Colab 中必須
        "--server.enableCORS", "false",
        "--server.enableXsrfProtection", "false"
    ]
    print(f"   執行指令: {' '.join(cmd)}")
    print(f"   前端日誌將輸出到: {log_file}")

    streamlit_process = None
    tunnel_url = None

    try:
        with open(log_file, 'wb') as out:
             streamlit_process = subprocess.Popen(cmd, stdout=out, stderr=out, text=False, cwd=PROJECT_DIR_TO_USE) # text=False for binary stream

        print(f"   前端服務 PID: {streamlit_process.pid if streamlit_process else 'N/A'}. 等待約 15-30 秒讓服務完成初始化...")
        time.sleep(20) # Streamlit 可能需要更長時間

        if streamlit_process and streamlit_process.poll() is None:
            print("   ✅ 前端服務應已在背景啟動。")
            if IN_COLAB:
                from google.colab.output import eval_js
                print("   嘗試獲取 Colab 代理 URL...")
                MAX_RETRIES = 3
                for attempt in range(MAX_RETRIES):
                    try:
                        tunnel_url = eval_js(f'google.colab.kernel.proxyPort({port})', timeout_sec=10)
                        if tunnel_url:
                            print(f"   🎉 成功獲取 Colab 代理 URL: {tunnel_url}")
                            break
                    except Exception as e:
                        print(f"      獲取 URL 第 {attempt+1} 次嘗試失敗: {e}")
                    if attempt < MAX_RETRIES - 1:
                         time.sleep(5)
                if not tunnel_url:
                    print("      ❌ 未能獲取 Colab 代理 URL。")
            else: # 本地環境
                tunnel_url = f"http://localhost:{port}"
                print(f"   本地環境，請手動訪問: {tunnel_url}")

        else:
            print(f"   ❌ 前端服務啟動失敗或意外終止。請檢查日誌檔案 {log_file}。")
            return None, None

    except Exception as e:
        print(f"❌ 啟動前端服務時發生錯誤: {e}")
        if streamlit_process and streamlit_process.poll() is None:
            streamlit_process.terminate()
        return None, None

    return streamlit_process, tunnel_url


# --- 步驟 5：執行系統健康檢查 (僅限除錯模式) ---
# 此部分基於 health_check_script_final.py 的核心邏輯，並整合到此 Notebook 中
# 測試結果將直接打印到此儲存格的輸出

def run_debug_mode_health_checks():
    print("\n--- 步驟 5：執行系統健康檢查 (偵錯模式) ---")
    all_tests_passed = True
    test_results_summary = []

    # 全域變數存儲 token (如果需要)
    # global test_api_auth_token
    # test_api_auth_token = None

    def run_test(test_name, test_function):
        nonlocal all_tests_passed # 允許修改外部作用域的 all_tests_passed
        print(f"\n[偵錯] 開始測試: {test_name}")
        try:
            start_test_time = time.time()
            test_function() # 直接調用，不再需要傳入 result_list
            duration_test = time.time() - start_test_time
            print(f"[偵錯] ✅ {test_name} 測試通過。耗時: {duration_test:.2f} 秒")
            test_results_summary.append({"name": test_name, "status": "PASS", "duration": f"{duration_test:.2f}s"})
        except AssertionError as e:
            all_tests_passed = False
            duration_test = time.time() - start_test_time
            print(f"[偵錯] ❌ {test_name} 測試失敗: {e}。耗時: {duration_test:.2f} 秒")
            test_results_summary.append({"name": test_name, "status": "FAIL", "details": str(e), "duration": f"{duration_test:.2f}s"})
        except Exception as e_general:
            all_tests_passed = False
            duration_test = time.time() - start_test_time
            print(f"[偵錯] ❌ {test_name} 執行時發生意外錯誤: {e_general}。耗時: {duration_test:.2f} 秒")
            import traceback
            tb_str = traceback.format_exc()
            print(tb_str)
            test_results_summary.append({"name": test_name, "status": "ERROR", "details": str(e_general), "traceback": tb_str, "duration": f"{duration_test:.2f}s"})


    # --- 健康檢查測試函數定義 ---
    def test_backend_health():
        print(f"   正在檢查後端健康狀況 ({BACKEND_HEALTH_CHECK_URL})...")
        start_time = time.time()
        response = requests.get(BACKEND_HEALTH_CHECK_URL, timeout=10)
        duration = time.time() - start_time
        print(f"   請求耗時: {duration:.2f}s")
        assert response.status_code == 200, f"預期狀態碼 200，但收到 {response.status_code}"
        assert response.json()["status"] == "OK", "後端 API 健康檢查未返回 'OK'"
        print(f"   後端 API 健康檢查成功回應: {response.json()}")

    def test_frontend_access():
        # 這個測試比較基礎，只確認 Streamlit URL 是否存在
        # 實際的前端測試需要更複雜的工具 (如 Selenium)
        print(f"   正在檢查前端可訪問性 (基於先前獲取的 URL)...")
        start_time = time.time()
        # tunnel_url 是在啟動前端服務時獲取的全域變數
        assert 'tunnel_url' in globals() and tunnel_url is not None, "前端 tunnel_url 未設定或為空"
        print(f"   前端 URL: {tunnel_url}")
        # 這裡不實際請求 URL，因為它可能需要 JS 渲染，且依賴 Colab 環境
        # 僅確認 URL 已獲取即可視為初步通過
        duration = time.time() - start_time
        print(f"   前端 URL 獲取檢查耗時: {duration:.2f}s")
        print(f"   前端初步檢查通過 (URL 已獲取)。")

    def test_core_api(): # 假設這是 /api/generate
        # headers = {'Content-Type': 'application/json'}
        # if test_api_auth_token:
        #     headers["Authorization"] = f"Bearer {test_api_auth_token}"
        headers = {'Content-Type': 'application/json'} # 根據使用者提供的 CORE_API_ENDPOINT

        print(f"   正在測試核心 AI API ({CORE_API_ENDPOINT}) 一般請求...")
        # 使用者提供的 CORE_API_TEST_PAYLOAD
        CORE_API_TEST_PAYLOAD = {
            "user_message": "你好，AI！請寫一個關於市場趨勢的簡短摘要。",
            "context": {
                "trigger_action": "chat", # 或者 "general_chat"
                "file_content": None,
                "date_range_for_analysis": None,
                "external_data": None,
                "chat_history": [],
                "selected_modules": ["刀疤老二"]
            }
        }
        start_time = time.time()
        response = requests.post(CORE_API_ENDPOINT, headers=headers, json=CORE_API_TEST_PAYLOAD, timeout=45)
        duration = time.time() - start_time
        print(f"   請求耗時: {duration:.2f}s")

        assert response.status_code == 200, f"核心 API 預期狀態碼 200，但收到 {response.status_code}"
        response_json = response.json()
        assert "result" in response_json, "核心 API 回應中缺少 'result' 欄位"
        print(f"   核心 AI API 成功回應，內容 (前100字符): {str(response_json.get('result'))[:100]}...")

    def test_data_fetch_yfinance():
        print("   執行 yfinance API 數據獲取測試 (通過 /api/data/fetch)...")
        base_start_time = time.time()
        headers = {} # 假設 data_fetch 不需要 token

        # 1. 有效 yfinance Ticker (AAPL)
        yf_payload_valid = {"source": "yfinance", "parameters": {"symbol": "AAPL", "period": "1d"}}
        print(f"     正在測試有效 yfinance Ticker (AAPL) from {DATA_FETCH_API_ENDPOINT}...")
        start_time = time.time()
        r_yf_valid = requests.post(DATA_FETCH_API_ENDPOINT, json=yf_payload_valid, headers=headers, timeout=15)
        duration = time.time() - start_time
        print(f"     請求耗時: {duration:.2f}s")
        assert r_yf_valid.status_code == 200, f"有效 yfinance Ticker 請求失敗, 狀態碼: {r_yf_valid.status_code}"
        json_yf_valid = r_yf_valid.json()
        assert json_yf_valid.get("success"), f"有效 yfinance Ticker API 回應 success: false. Details: {json_yf_valid.get('details', '')}"
        assert not json_yf_valid.get("is_cached"), "有效 yfinance Ticker 首次請求不應被快取"
        print(f"     ✅ 有效 yfinance Ticker (AAPL) 測試通過。資料片段: {str(json_yf_valid.get('data'))[:70]}...")

        # 2. yfinance Cache Check (AAPL)
        print(f"     正在測試 yfinance Ticker (AAPL) 快取 from {DATA_FETCH_API_ENDPOINT}...")
        start_time = time.time()
        r_yf_cache = requests.post(DATA_FETCH_API_ENDPOINT, json=yf_payload_valid, headers=headers, timeout=15)
        duration = time.time() - start_time
        print(f"     請求耗時: {duration:.2f}s")
        assert r_yf_cache.status_code == 200, f"yfinance Ticker 快取請求失敗, 狀態碼: {r_yf_cache.status_code}"
        json_yf_cache = r_yf_cache.json()
        assert json_yf_cache.get("success"), f"yfinance Ticker 快取 API 回應 success: false. Details: {json_yf_cache.get('details', '')}"
        assert json_yf_cache.get("is_cached"), "yfinance Ticker 快取測試未返回 is_cached: true"
        print("     ✅ yfinance Ticker (AAPL) 快取測試通過。")

        # 3. 無效 yfinance Ticker
        yf_payload_invalid = {"source": "yfinance", "parameters": {"symbol": "INVALIDTICKERXYZ", "period": "1d"}}
        print(f"     正在測試無效 yfinance Ticker from {DATA_FETCH_API_ENDPOINT}...")
        start_time = time.time()
        r_yf_invalid = requests.post(DATA_FETCH_API_ENDPOINT, json=yf_payload_invalid, headers=headers, timeout=15)
        duration = time.time() - start_time
        print(f"     請求耗時: {duration:.2f}s")
        if r_yf_invalid.status_code == 200:
            assert not r_yf_invalid.json().get("success"), "無效 yfinance Ticker 預期 success: false，但 API 返回 success: true"
            print("     ✅ 無效 yfinance Ticker 測試通過 (API 返回 success: false)。")
        elif r_yf_invalid.status_code >= 400:
            print(f"     ✅ 無效 yfinance Ticker 測試通過 (API 返回錯誤狀態碼: {r_yf_invalid.status_code})。")
        else:
            assert False, f"無效 yfinance Ticker 測試返回非預期狀態碼: {r_yf_invalid.status_code}, content: {r_yf_invalid.text[:100]}"
        print(f"   yfinance API 數據獲取總測試耗時: {time.time() - base_start_time:.2f} 秒")

    def test_data_fetch_fred():
        print("   執行 FRED API 數據獲取測試 (通過 /api/data/fetch)...")
        base_start_time = time.time()
        headers = {} # 假設 data_fetch 不需要 token

        # 1. 有效 FRED Series (GNPCA)
        payload_valid = {"source": "fred", "parameters": {"series_id": "GNPCA", "limit": 5}}
        print(f"     正在測試有效 FRED Series (GNPCA) from {DATA_FETCH_API_ENDPOINT}...")
        start_time = time.time()
        response_valid = requests.post(DATA_FETCH_API_ENDPOINT, json=payload_valid, headers=headers, timeout=20)
        duration = time.time() - start_time
        print(f"     請求耗時: {duration:.2f}s")
        assert response_valid.status_code == 200, f"有效 FRED Series 請求失敗, 狀態碼: {response_valid.status_code}"
        json_valid = response_valid.json()
        assert json_valid.get("success"), f"有效 FRED Series API 回應 success: false. Details: {json_valid.get('details', '')}"
        assert json_valid.get("data") and isinstance(json_valid.get("data"), list) and len(json_valid.get("data")) > 0, "有效 FRED Series 未返回預期數據格式"
        assert not json_valid.get("is_cached"), "有效 FRED Series 首次請求不應被快取"
        print(f"     ✅ 有效 FRED Series (GNPCA) 測試通過。資料片段: {str(json_valid.get('data')[:1])[:70]}...")

        # 2. FRED Cache Check (GNPCA)
        print(f"     正在測試 FRED Series (GNPCA) 快取 from {DATA_FETCH_API_ENDPOINT}...")
        start_time = time.time()
        response_cache = requests.post(DATA_FETCH_API_ENDPOINT, json=payload_valid, headers=headers, timeout=20)
        duration = time.time() - start_time
        print(f"     請求耗時: {duration:.2f}s")
        assert response_cache.status_code == 200, f"FRED Series 快取請求失敗, 狀態碼: {response_cache.status_code}"
        json_cache = response_cache.json()
        assert json_cache.get("success"), f"FRED Series 快取 API 回應 success: false. Details: {json_cache.get('details', '')}"
        assert json_cache.get("is_cached"), "FRED Series 快取測試未返回 is_cached: true"
        print("     ✅ FRED Series (GNPCA) 快取測試通過。")

        # 3. 無效 FRED Series
        payload_invalid = {"source": "fred", "parameters": {"series_id": "INVALIDFREDIDXYZ"}}
        print(f"     正在測試無效 FRED Series from {DATA_FETCH_API_ENDPOINT}...")
        start_time = time.time()
        response_invalid = requests.post(DATA_FETCH_API_ENDPOINT, json=payload_invalid, headers=headers, timeout=20)
        duration = time.time() - start_time
        print(f"     請求耗時: {duration:.2f}s")
        if response_invalid.status_code == 200:
            assert not response_invalid.json().get("success"), "無效 FRED Series 預期 success: false，但 API 返回 success: true"
            print("     ✅ 無效 FRED Series 測試通過 (API 返回 success: false)。")
        elif response_invalid.status_code >= 400:
            print(f"     ✅ 無效 FRED Series 測試通過 (API 返回錯誤狀態碼: {response_invalid.status_code})。")
        else:
            assert False, f"無效 FRED Series 測試返回非預期狀態碼: {response_invalid.status_code}, content: {response_invalid.text[:100]}"
        print(f"   FRED API 數據獲取總測試耗時: {time.time() - base_start_time:.2f} 秒")

    def test_initial_analysis_with_specific_date():
        print("   執行特定日期 AI 市場回顧測試...")
        test_start_time = time.time() # Overall test timer

        temp_doc_content = "這是一篇關於市場分析的文章。\n日期：2023-10-26\n我們認為市場將會上漲。"
        aapl_market_data = None # Initialize

        # 預獲取市場數據
        external_data_payload = {"source": "yfinance", "parameters": {"symbol": "AAPL", "period": "7d", "end_date": "2023-10-26"}}
        print(f"     正在從 {DATA_FETCH_API_ENDPOINT} 預獲取 AAPL 市場數據...")
        fetch_start_time = time.time()
        # headers_fetch = {"Authorization": f"Bearer {test_api_auth_token}"} if test_api_auth_token else {}
        headers_fetch = {} # Assuming no token for data_fetch
        try:
            response_fetch = requests.post(DATA_FETCH_API_ENDPOINT, json=external_data_payload, headers=headers_fetch, timeout=20)
            fetch_duration = time.time() - fetch_start_time
            print(f"     市場數據預獲取請求耗時: {fetch_duration:.2f}s")
            assert response_fetch.status_code == 200, f"預獲取市場數據失敗，狀態碼: {response_fetch.status_code}"
            response_fetch_json = response_fetch.json()
            assert response_fetch_json.get("success"), f"預獲取市場數據 API 回應 success: false. Details: {response_fetch_json.get('details')}"
            aapl_market_data = response_fetch_json.get("data")
            assert aapl_market_data, "預獲取的市場數據為空"
            print(f"     成功預獲取到 AAPL 市場數據。")
        except Exception as e_fetch:
            fetch_duration = time.time() - fetch_start_time
            print(f"     ❌ 預獲取 AAPL 市場數據時發生錯誤: {e_fetch}。耗時: {fetch_duration:.2f}s")
            assert False, f"預獲取市場數據失敗: {e_fetch}"

        # 構造 initial_analysis 請求
        payload = {
            "user_message": "",
            "context": {
                "trigger_action": "initial_analysis",
                "file_content": temp_doc_content,
                "date_range_for_analysis": "2023-10-26",
                "external_data": {"aapl_data": aapl_market_data},
                "chat_history": [],
                "selected_modules": ["刀疤老二", "Vincent余鄭文"]
            }
        }
        print(f"     正在調用核心 AI 端點 ({CORE_API_ENDPOINT}) 進行 initial_analysis...")
        # headers_ai = {"Authorization": f"Bearer {test_api_auth_token}"} if test_api_auth_token else {}
        headers_ai = {'Content-Type': 'application/json'}

        ai_call_start_time = time.time()
        response_ai = requests.post(CORE_API_ENDPOINT, headers=headers_ai, json=payload, timeout=60)
        ai_call_duration = time.time() - ai_call_start_time
        print(f"     核心 AI 端點調用耗時: {ai_call_duration:.2f}s")

        assert response_ai.status_code == 200, f"AI 分析 API 狀態碼錯誤: {response_ai.status_code}"
        response_json = response_ai.json()
        assert "result" in response_json, "AI 分析 API 回應中缺少 'result' 欄位"
        ai_reply_markdown = response_json["result"]
        print(f"     AI 回應 (前100字符): {ai_reply_markdown[:100]}...")

        assert "A. 週次與日期範圍:" in ai_reply_markdown, "報告中未找到 'A. 週次與日期範圍:'"
        assert "2023-10-26" in ai_reply_markdown or "2023年10月26日" in ai_reply_markdown, "報告 A 章節未正確反映指定日期 '2023-10-26'"
        print("     ✅ 報告 A 章節日期驗證通過。")

        assert "C. 當週市場重點回顧:" in ai_reply_markdown, "報告中未找到 'C. 當週市場重點回顧:'"
        assert "AAPL" in ai_reply_markdown.upper() or "蘋果" in ai_reply_markdown, "報告 C 章節可能未提及 AAPL 或蘋果相關內容"
        print("     ✅ 報告 C 章節 AAPL 提及驗證通過 (寬鬆檢查)。")

        overall_duration = time.time() - test_start_time
        print(f"   特定日期 AI 市場回顧測試總耗時: {overall_duration:.2f} 秒")

    # --- 執行測試 ---
    if IS_DEBUG_MODE:
        # run_test("API 認證登入", test_auth_login) # 暫時不執行，因其為模擬
        run_test("後端 API 健康檢查", test_backend_health)
        if 'streamlit_process' in globals() and streamlit_process is not None and streamlit_process.poll() is None : # 僅在 V5 或 V6 前端模式下測試
             if MODE != "Wolf_V6 (Backend Only)":
                run_test("前端靜態檔案可訪問性", test_frontend_access)
        else: # 如果前端未啟動 (例如後端only模式)，則跳過此測試
             print("\n[偵錯] 跳過測試: 前端靜態檔案可訪問性 (前端服務未在此模式下啟動)")
             test_results_summary.append({"name": "前端靜態檔案可訪問性", "status": "SKIPPED", "details": "Frontend service not started in this mode."})

        # 新增的整合測試 (僅在後端服務啟動後執行)
        if backend_process and backend_process.poll() is None:
            run_test("yfinance API 數據獲取整合測試", test_data_fetch_yfinance)
            run_test("FRED API 數據獲取整合測試", test_data_fetch_fred)
            run_test("核心功能 API 端點一般測試", test_core_api) # 移到數據獲取之後，AI分析之前
            run_test("特定日期 AI 市場回顧整合測試", test_initial_analysis_with_specific_date)
        else:
            print("\n[偵錯] 跳過 API 整合測試 (後端服務未成功啟動)")
            for test_name_skip in [
                "yfinance API 數據獲取整合測試",
                "FRED API 數據獲取整合測試",
                "核心功能 API 端點一般測試",
                "特定日期 AI 市場回顧整合測試"
            ]:
                test_results_summary.append({"name": test_name_skip, "status": "SKIPPED", "details": "Backend service not started."})

        # --- 測試結果總結 ---
        print("\n\n--- 健康檢查結果總結 ---")
        for result in test_results_summary:
            if result['status'] == "PASS":
                print(f"✅ {result['name']}: PASS (耗時: {result.get('duration', 'N/A')})")
            elif result['status'] == "SKIPPED":
                print(f"🟡 {result['name']}: SKIPPED - {result.get('details', '')}")
            else: # FAIL or ERROR
                print(f"❌ {result['name']}: {result['status']} - {result.get('details', '')} (耗時: {result.get('duration', 'N/A')})")
                if result.get('traceback'):
                    print(f"   Traceback:\n{result['traceback']}")

        if all_tests_passed:
            print("\n🎉 所有健康檢查通過！")
        else:
            print("\n💔 部分健康檢查失敗或出錯，請查看上方日誌。")
    else:
        print("\n--- 偵錯模式未啟用，跳過健康檢查 ---")
    print("-" * 70 + "\n")


# --- 主執行流程 ---
def main():
    global backend_process, frontend_process, tunnel_url # 允許修改全域變數
    backend_process = None
    frontend_process = None
    tunnel_url = None

    clear_output(wait=True)
    print(f"🚀 選擇模式: {MODE}")
    print(f"⏳ Colab 環境: {IN_COLAB}")
    print(f"   偵錯模式: {'啟用' if IS_DEBUG_MODE else '關閉'}")
    print("-" * 70)

    # 步驟 1: 掛載 Google Drive 並設定路徑
    print("\n--- 步驟 1: 設定環境與目錄 ---")
    mount_google_drive()
    print(f"   專案將使用路徑: {PROJECT_DIR_TO_USE}")
    print(f"   應用程式資料將使用路徑: {APP_DATA_DIR_TO_USE}")

    # 步驟 2: 克隆或更新專案程式碼
    print("\n--- 步驟 2: 獲取專案程式碼 ---")
    git_clone_or_pull_project()

    # 步驟 3: 安裝依賴
    print("\n--- 步驟 3: 安裝依賴套件 ---")
    install_dependencies()

    # 步驟 4: 設定環境變數
    print("\n--- 步驟 4: 設定環境變數 ---")
    set_environment_variables() # 確保 APP_DATA_DIR 等被設定

    # 根據模式啟動服務
    backend_port_to_use = DEBUG_BACKEND_PORT if IS_DEBUG_MODE else 8000 # V5/V6 後端預設 8000

    if MODE == "Wolf_V5 (Backend + Frontend)":
        backend_process = start_backend_service(backend_port_to_use)
        if backend_process and backend_process.poll() is None:
            frontend_process, tunnel_url = start_frontend_service(STREAMLIT_PORT)
        else:
            print("❌ 後端服務啟動失敗，無法啟動前端。")
    elif MODE == "Wolf_V6 (Backend Only)":
        backend_process = start_backend_service(backend_port_to_use)
    elif MODE == "Wolf_V6 (Frontend Only)":
        # V6 前端可能依賴一個已在其他地方運行的後端，或者有不同的啟動配置
        # 此處假設它仍然需要 PROJECT_DIR_TO_USE 中的 app.py
        # 如果 V6 前端有自己的 main.py，則需修改 frontend_app_path
        frontend_process, tunnel_url = start_frontend_service(STREAMLIT_PORT)

    # 步驟 5: 執行健康檢查 (僅限偵錯模式)
    if IS_DEBUG_MODE:
        # 健康檢查應在相關服務啟動後執行
        if MODE == "Wolf_V5 (Backend + Frontend)" and backend_process and backend_process.poll() is None:
            run_debug_mode_health_checks()
        elif MODE == "Wolf_V6 (Backend Only)" and backend_process and backend_process.poll() is None:
            run_debug_mode_health_checks() # 可以只測後端部分
        elif MODE == "Wolf_V6 (Frontend Only)" and frontend_process and frontend_process.poll() is None:
            # 前端 only 模式下的健康檢查可能有限，或需要特定配置
            print("\n[偵錯] 前端 Only 模式，執行有限的健康檢查 (例如前端訪問性)。")
            run_debug_mode_health_checks()
        elif not IS_DEBUG_MODE:
             pass # 非偵錯模式不執行
        else:
            print("\n[偵錯] 因服務啟動問題，跳過部分或全部健康檢查。")

    # --- 顯示最終資訊與保持運行 ---
    print("\n\n--- 服務啟動摘要 ---")
    if MODE == "Wolf_V5 (Backend + Frontend)":
        if backend_process and backend_process.poll() is None:
            print(f"✅ 後端服務 (PID: {backend_process.pid}) 應在背景運行 (埠號: {backend_port_to_use})。")
        else:
            print(f"❌ 後端服務未能成功啟動。")
        if frontend_process and frontend_process.poll() is None and tunnel_url:
            display(HTML(f"<div style='border:2px solid blue;padding:15px;margin:10px;'>🎉 前端應用程式已啟動！點擊訪問: <a href='{tunnel_url}' target='_blank'>{tunnel_url}</a></div>"))
            print(f"✅ 前端服務 (PID: {frontend_process.pid}) 應在背景運行 (埠號: {STREAMLIT_PORT})。")
        else:
            print(f"❌ 前端服務未能成功啟動或獲取 URL。")
    elif MODE == "Wolf_V6 (Backend Only)":
        if backend_process and backend_process.poll() is None:
            print(f"✅ 後端服務 (PID: {backend_process.pid}) 應在背景運行 (埠號: {backend_port_to_use})。")
            print(f"   API 端點應在 http://127.0.0.1:{backend_port_to_use} 可用。")
        else:
            print(f"❌ 後端服務未能成功啟動。")
    elif MODE == "Wolf_V6 (Frontend Only)":
        if frontend_process and frontend_process.poll() is None and tunnel_url:
            display(HTML(f"<div style='border:2px solid blue;padding:15px;margin:10px;'>🎉 前端應用程式已啟動！點擊訪問: <a href='{tunnel_url}' target='_blank'>{tunnel_url}</a></div>"))
            print(f"✅ 前端服務 (PID: {frontend_process.pid}) 應在背景運行 (埠號: {STREAMLIT_PORT})。")
        else:
            print(f"❌ 前端服務未能成功啟動或獲取 URL。")

    if (MODE == "Wolf_V5 (Backend + Frontend)" and frontend_process and frontend_process.poll() is None) or \
       (MODE == "Wolf_V6 (Frontend Only)" and frontend_process and frontend_process.poll() is None) or \
       (MODE == "Wolf_V6 (Backend Only)" and backend_process and backend_process.poll() is None) :
        print("\n⏳ 服務正在運行中。關閉此瀏覽器分頁或中斷此 Colab Cell 的執行將終止服務。")
        print("   如果需要，請檢查對應的日誌檔案以獲取詳細輸出。")
        try:
            while True:
                time.sleep(60) # 每分鐘檢查一次服務狀態
                if backend_process and backend_process.poll() is not None:
                    print(f"\n⚠️ 後端服務 (PID: {backend_process.pid}) 已意外終止。")
                    break
                if frontend_process and frontend_process.poll() is not None:
                    print(f"\n⚠️ 前端服務 (PID: {frontend_process.pid}) 已意外終止。")
                    break
                if not backend_process and not frontend_process: # 都沒啟動
                    break
        except KeyboardInterrupt:
            print("\n⌨️ 偵測到手動中斷。")
    else:
        print("\n❌ 未能成功啟動任何服務或所有服務已終止。")

    # --- 清理工作 ---
    print("\n--- 執行結束，開始清理 ---")
    if backend_process and backend_process.poll() is None:
        print(f"   正在終止後端服務 (PID: {backend_process.pid})...")
        backend_process.terminate()
        backend_process.wait(timeout=10)
    if frontend_process and frontend_process.poll() is None:
        print(f"   正在終止前端服務 (PID: {frontend_process.pid})...")
        frontend_process.terminate()
        frontend_process.wait(timeout=10)
    print("✅ 清理完成。")

# --- 執行主函數 ---
if __name__ == '__main__':
    main()

```
